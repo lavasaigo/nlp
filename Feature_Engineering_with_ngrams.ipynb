{
 "cells": [
  {
   "cell_type": "code",
   "execution_count": 1,
   "metadata": {},
   "outputs": [],
   "source": [
    "import pandas as pd\n",
    "import nltk\n",
    "from nltk import ngrams,word_tokenize"
   ]
  },
  {
   "cell_type": "code",
   "execution_count": 2,
   "metadata": {},
   "outputs": [
    {
     "data": {
      "text/html": [
       "<div>\n",
       "<style scoped>\n",
       "    .dataframe tbody tr th:only-of-type {\n",
       "        vertical-align: middle;\n",
       "    }\n",
       "\n",
       "    .dataframe tbody tr th {\n",
       "        vertical-align: top;\n",
       "    }\n",
       "\n",
       "    .dataframe thead th {\n",
       "        text-align: right;\n",
       "    }\n",
       "</style>\n",
       "<table border=\"1\" class=\"dataframe\">\n",
       "  <thead>\n",
       "    <tr style=\"text-align: right;\">\n",
       "      <th></th>\n",
       "      <th>Text</th>\n",
       "      <th>Score</th>\n",
       "      <th>preprocessed_text</th>\n",
       "      <th>length_of_the_sentence</th>\n",
       "    </tr>\n",
       "  </thead>\n",
       "  <tbody>\n",
       "    <tr>\n",
       "      <th>0</th>\n",
       "      <td>I have bought several of the Vitality canned d...</td>\n",
       "      <td>5</td>\n",
       "      <td>bought several vitality canned dog food produ...</td>\n",
       "      <td>23</td>\n",
       "    </tr>\n",
       "    <tr>\n",
       "      <th>1</th>\n",
       "      <td>Product arrived labeled as Jumbo Salted Peanut...</td>\n",
       "      <td>1</td>\n",
       "      <td>product arrived labeled jumbo salted peanut p...</td>\n",
       "      <td>18</td>\n",
       "    </tr>\n",
       "    <tr>\n",
       "      <th>2</th>\n",
       "      <td>This is a confection that has been around a fe...</td>\n",
       "      <td>4</td>\n",
       "      <td>confection around century light pillowy citru...</td>\n",
       "      <td>39</td>\n",
       "    </tr>\n",
       "    <tr>\n",
       "      <th>3</th>\n",
       "      <td>If you are looking for the secret ingredient i...</td>\n",
       "      <td>2</td>\n",
       "      <td>looking secret ingredient believe found got a...</td>\n",
       "      <td>17</td>\n",
       "    </tr>\n",
       "    <tr>\n",
       "      <th>4</th>\n",
       "      <td>Great taffy at a great price.  There was a wid...</td>\n",
       "      <td>5</td>\n",
       "      <td>great taffy great price wide assortment yummy...</td>\n",
       "      <td>13</td>\n",
       "    </tr>\n",
       "  </tbody>\n",
       "</table>\n",
       "</div>"
      ],
      "text/plain": [
       "                                                Text  Score  \\\n",
       "0  I have bought several of the Vitality canned d...      5   \n",
       "1  Product arrived labeled as Jumbo Salted Peanut...      1   \n",
       "2  This is a confection that has been around a fe...      4   \n",
       "3  If you are looking for the secret ingredient i...      2   \n",
       "4  Great taffy at a great price.  There was a wid...      5   \n",
       "\n",
       "                                   preprocessed_text length_of_the_sentence  \n",
       "0   bought several vitality canned dog food produ...                    23   \n",
       "1   product arrived labeled jumbo salted peanut p...                    18   \n",
       "2   confection around century light pillowy citru...                    39   \n",
       "3   looking secret ingredient believe found got a...                    17   \n",
       "4   great taffy great price wide assortment yummy...                    13   "
      ]
     },
     "execution_count": 2,
     "metadata": {},
     "output_type": "execute_result"
    }
   ],
   "source": [
    "df= pd.read_pickle(\"./df_preprocessed_text.pkl\")\n",
    "df.head()"
   ]
  },
  {
   "cell_type": "code",
   "execution_count": 3,
   "metadata": {},
   "outputs": [
    {
     "data": {
      "text/html": [
       "<div>\n",
       "<style scoped>\n",
       "    .dataframe tbody tr th:only-of-type {\n",
       "        vertical-align: middle;\n",
       "    }\n",
       "\n",
       "    .dataframe tbody tr th {\n",
       "        vertical-align: top;\n",
       "    }\n",
       "\n",
       "    .dataframe thead th {\n",
       "        text-align: right;\n",
       "    }\n",
       "</style>\n",
       "<table border=\"1\" class=\"dataframe\">\n",
       "  <thead>\n",
       "    <tr style=\"text-align: right;\">\n",
       "      <th></th>\n",
       "      <th>Text</th>\n",
       "      <th>Score</th>\n",
       "      <th>preprocessed_text</th>\n",
       "      <th>length_of_the_sentence</th>\n",
       "      <th>bigrams</th>\n",
       "      <th>trigrams</th>\n",
       "    </tr>\n",
       "  </thead>\n",
       "  <tbody>\n",
       "    <tr>\n",
       "      <th>0</th>\n",
       "      <td>I have bought several of the Vitality canned d...</td>\n",
       "      <td>5</td>\n",
       "      <td>bought several vitality canned dog food produ...</td>\n",
       "      <td>23</td>\n",
       "      <td>[(bought, several), (several, vitality), (vita...</td>\n",
       "      <td>[(bought, several, vitality), (several, vitali...</td>\n",
       "    </tr>\n",
       "    <tr>\n",
       "      <th>1</th>\n",
       "      <td>Product arrived labeled as Jumbo Salted Peanut...</td>\n",
       "      <td>1</td>\n",
       "      <td>product arrived labeled jumbo salted peanut p...</td>\n",
       "      <td>18</td>\n",
       "      <td>[(product, arrived), (arrived, labeled), (labe...</td>\n",
       "      <td>[(product, arrived, labeled), (arrived, labele...</td>\n",
       "    </tr>\n",
       "    <tr>\n",
       "      <th>2</th>\n",
       "      <td>This is a confection that has been around a fe...</td>\n",
       "      <td>4</td>\n",
       "      <td>confection around century light pillowy citru...</td>\n",
       "      <td>39</td>\n",
       "      <td>[(confection, around), (around, century), (cen...</td>\n",
       "      <td>[(confection, around, century), (around, centu...</td>\n",
       "    </tr>\n",
       "    <tr>\n",
       "      <th>3</th>\n",
       "      <td>If you are looking for the secret ingredient i...</td>\n",
       "      <td>2</td>\n",
       "      <td>looking secret ingredient believe found got a...</td>\n",
       "      <td>17</td>\n",
       "      <td>[(looking, secret), (secret, ingredient), (ing...</td>\n",
       "      <td>[(looking, secret, ingredient), (secret, ingre...</td>\n",
       "    </tr>\n",
       "    <tr>\n",
       "      <th>4</th>\n",
       "      <td>Great taffy at a great price.  There was a wid...</td>\n",
       "      <td>5</td>\n",
       "      <td>great taffy great price wide assortment yummy...</td>\n",
       "      <td>13</td>\n",
       "      <td>[(great, taffy), (taffy, great), (great, price...</td>\n",
       "      <td>[(great, taffy, great), (taffy, great, price),...</td>\n",
       "    </tr>\n",
       "  </tbody>\n",
       "</table>\n",
       "</div>"
      ],
      "text/plain": [
       "                                                Text  Score  \\\n",
       "0  I have bought several of the Vitality canned d...      5   \n",
       "1  Product arrived labeled as Jumbo Salted Peanut...      1   \n",
       "2  This is a confection that has been around a fe...      4   \n",
       "3  If you are looking for the secret ingredient i...      2   \n",
       "4  Great taffy at a great price.  There was a wid...      5   \n",
       "\n",
       "                                   preprocessed_text length_of_the_sentence  \\\n",
       "0   bought several vitality canned dog food produ...                    23    \n",
       "1   product arrived labeled jumbo salted peanut p...                    18    \n",
       "2   confection around century light pillowy citru...                    39    \n",
       "3   looking secret ingredient believe found got a...                    17    \n",
       "4   great taffy great price wide assortment yummy...                    13    \n",
       "\n",
       "                                             bigrams  \\\n",
       "0  [(bought, several), (several, vitality), (vita...   \n",
       "1  [(product, arrived), (arrived, labeled), (labe...   \n",
       "2  [(confection, around), (around, century), (cen...   \n",
       "3  [(looking, secret), (secret, ingredient), (ing...   \n",
       "4  [(great, taffy), (taffy, great), (great, price...   \n",
       "\n",
       "                                            trigrams  \n",
       "0  [(bought, several, vitality), (several, vitali...  \n",
       "1  [(product, arrived, labeled), (arrived, labele...  \n",
       "2  [(confection, around, century), (around, centu...  \n",
       "3  [(looking, secret, ingredient), (secret, ingre...  \n",
       "4  [(great, taffy, great), (taffy, great, price),...  "
      ]
     },
     "execution_count": 3,
     "metadata": {},
     "output_type": "execute_result"
    }
   ],
   "source": [
    "df['bigrams']= df[\"preprocessed_text\"].apply(lambda text_row:list(ngrams(word_tokenize(text_row),2)))\n",
    "df['trigrams']= df[\"preprocessed_text\"].apply(lambda text_row:list(ngrams(word_tokenize(text_row),3)))\n",
    "df.head()"
   ]
  },
  {
   "cell_type": "code",
   "execution_count": 4,
   "metadata": {},
   "outputs": [],
   "source": [
    "def get_ngrams(col):\n",
    "    ngrams = df[col].iloc[0]\n",
    "    for lst in df[col][1:]:\n",
    "        ngrams.extend(lst)\n",
    "    return ngrams"
   ]
  },
  {
   "cell_type": "code",
   "execution_count": 5,
   "metadata": {},
   "outputs": [],
   "source": [
    "all_bigrams = get_ngrams(\"bigrams\")\n",
    "all_trigrams = get_ngrams(\"trigrams\")"
   ]
  },
  {
   "cell_type": "code",
   "execution_count": 6,
   "metadata": {},
   "outputs": [
    {
     "data": {
      "text/plain": [
       "[('bought', 'several'),\n",
       " ('several', 'vitality'),\n",
       " ('vitality', 'canned'),\n",
       " ('canned', 'dog'),\n",
       " ('dog', 'food')]"
      ]
     },
     "execution_count": 6,
     "metadata": {},
     "output_type": "execute_result"
    }
   ],
   "source": [
    "all_bigrams[:5]"
   ]
  },
  {
   "cell_type": "code",
   "execution_count": 7,
   "metadata": {},
   "outputs": [
    {
     "data": {
      "text/plain": [
       "[('bought', 'several', 'vitality'),\n",
       " ('several', 'vitality', 'canned'),\n",
       " ('vitality', 'canned', 'dog'),\n",
       " ('canned', 'dog', 'food'),\n",
       " ('dog', 'food', 'product')]"
      ]
     },
     "execution_count": 7,
     "metadata": {},
     "output_type": "execute_result"
    }
   ],
   "source": [
    "all_trigrams[:5]"
   ]
  },
  {
   "cell_type": "code",
   "execution_count": 8,
   "metadata": {},
   "outputs": [
    {
     "name": "stdout",
     "output_type": "stream",
     "text": [
      "Top 10 common bigrams are:[(('potato', 'chip'), 101), (('kettle', 'chip'), 69), (('kettle', 'brand'), 58), (('salt', 'vinegar'), 48), (('amazon', 'come'), 36), (('grocery', 'store'), 36), (('dog', 'food'), 32), (('brand', 'chip'), 32), (('sea', 'salt'), 31), (('highly', 'recommend'), 29)]\n",
      "Top 10 common trigrams are:[(('kettle', 'brand', 'chip'), 27), (('ref', 'help', 'wow'), 26), (('help', 'wow', 'amazon'), 26), (('wow', 'amazon', 'come'), 26), (('amazon', 'come', 'product'), 26), (('salt', 'vinegar', 'chip'), 20), (('brand', 'potato', 'chip'), 19), (('sea', 'salt', 'vinegar'), 19), (('kettle', 'brand', 'potato'), 17), (('local', 'grocery', 'store'), 15)]\n"
     ]
    }
   ],
   "source": [
    "from collections import Counter\n",
    "\n",
    "print(f\"Top 10 common bigrams are:{Counter(all_bigrams).most_common(10)}\")\n",
    "print(f\"Top 10 common trigrams are:{Counter(all_trigrams).most_common(10)}\")"
   ]
  }
 ],
 "metadata": {
  "kernelspec": {
   "display_name": "env",
   "language": "python",
   "name": "python3"
  },
  "language_info": {
   "codemirror_mode": {
    "name": "ipython",
    "version": 3
   },
   "file_extension": ".py",
   "mimetype": "text/x-python",
   "name": "python",
   "nbconvert_exporter": "python",
   "pygments_lexer": "ipython3",
   "version": "3.11.5"
  }
 },
 "nbformat": 4,
 "nbformat_minor": 2
}
