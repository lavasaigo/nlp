{
 "cells": [
  {
   "cell_type": "markdown",
   "metadata": {},
   "source": [
    "pip install pyspellchecker"
   ]
  },
  {
   "cell_type": "code",
   "execution_count": 26,
   "metadata": {},
   "outputs": [
    {
     "name": "stdout",
     "output_type": "stream",
     "text": [
      "{'Helo': 'help', 'Uniqe': 'unique', 'magnificents': 'magnificent', 'moning': 'morning', 'gneuis': 'genius'}\n"
     ]
    }
   ],
   "source": [
    "from spellchecker import SpellChecker\n",
    "\n",
    "english_spellchecker = SpellChecker()\n",
    "\n",
    "misspelled_words_lst = ['Helo','Uniqe','magnificents','moning','gneuis']\n",
    "\n",
    "word_dict = {}\n",
    "for word in misspelled_words_lst:\n",
    "    word_dict[word] = english_spellchecker.correction(word)\n",
    "print(word_dict)"
   ]
  },
  {
   "cell_type": "code",
   "execution_count": 27,
   "metadata": {},
   "outputs": [
    {
     "name": "stdout",
     "output_type": "stream",
     "text": [
      "{'miillet', 'peearl', 'vegtables', 'inlude', 'culvated', 'flou', 'indian', 'subcccontinent', 'erice'}\n"
     ]
    }
   ],
   "source": [
    "#Identifying the misspelled words for the text sentence\n",
    "\n",
    "text = 'Early diet in India mainly consisted of legumes vegtables fruits grains dairy products and honey \\\n",
    "        Staple foods eaten today inlude a variety of lentils whole wheat flou erice and peearl miillet \\\n",
    "        which has been culvated in the Indian subcccontinent'\n",
    "words_lst = text.split()\n",
    "\n",
    "misspelled_words_lst = english_spellchecker.unknown(words_lst)\n",
    "print(misspelled_words_lst)"
   ]
  },
  {
   "cell_type": "code",
   "execution_count": 28,
   "metadata": {},
   "outputs": [
    {
     "name": "stdout",
     "output_type": "stream",
     "text": [
      "{'miillet': 'millet', 'peearl': 'pearl', 'vegtables': 'vegetables', 'inlude': 'include', 'culvated': 'cultivated', 'flou': 'flow', 'indian': 'india', 'subcccontinent': 'subcontinent', 'erice': 'price'}\n"
     ]
    }
   ],
   "source": [
    "word_dict = {}\n",
    "for word in misspelled_words_lst:\n",
    "    word_dict[word] = english_spellchecker.correction(word)\n",
    "print(word_dict)"
   ]
  },
  {
   "cell_type": "code",
   "execution_count": 29,
   "metadata": {},
   "outputs": [
    {
     "name": "stdout",
     "output_type": "stream",
     "text": [
      "{'diet', 'which', 'mainly', 'early', 'fruits', 'of', 'been', 'foods', 'consisted', 'a', 'whole', 'has', 'variety', 'legumes', 'wheat', 'in', 'india', 'eaten', 'the', 'grains', 'today', 'and', 'dairy', 'lentils', 'staple', 'products', 'honey'}\n"
     ]
    }
   ],
   "source": [
    "#Identifying the right words from the text corpus\n",
    "\n",
    "text = 'Early diet in India mainly consisted of legumes vegtables fruits grains dairy products and honey \\\n",
    "        Staple foods eaten today inlude a variety of lentils whole wheat flou erice and peearl miillet \\\n",
    "        which has been culvated in the Indian subcccontinent'\n",
    "\n",
    "words_lst = text.split()\n",
    "\n",
    "right_words_lst = english_spellchecker.known(words_lst)\n",
    "print(right_words_lst)"
   ]
  },
  {
   "cell_type": "code",
   "execution_count": 30,
   "metadata": {},
   "outputs": [
    {
     "name": "stdout",
     "output_type": "stream",
     "text": [
      "{'flop', 'flout', 'floc', 'flour', 'flow', 'floe', 'flog', 'flu', 'fou'}\n"
     ]
    }
   ],
   "source": [
    "similar_words = english_spellchecker.candidates('flou')\n",
    "print(similar_words)"
   ]
  },
  {
   "cell_type": "code",
   "execution_count": 32,
   "metadata": {},
   "outputs": [
    {
     "name": "stdout",
     "output_type": "stream",
     "text": [
      "<class 'pandas.core.frame.DataFrame'>\n",
      "RangeIndex: 568454 entries, 0 to 568453\n",
      "Data columns (total 10 columns):\n",
      " #   Column                  Non-Null Count   Dtype \n",
      "---  ------                  --------------   ----- \n",
      " 0   Id                      568454 non-null  int64 \n",
      " 1   ProductId               568454 non-null  object\n",
      " 2   UserId                  568454 non-null  object\n",
      " 3   ProfileName             568428 non-null  object\n",
      " 4   HelpfulnessNumerator    568454 non-null  int64 \n",
      " 5   HelpfulnessDenominator  568454 non-null  int64 \n",
      " 6   Score                   568454 non-null  int64 \n",
      " 7   Time                    568454 non-null  int64 \n",
      " 8   Summary                 568427 non-null  object\n",
      " 9   Text                    568454 non-null  object\n",
      "dtypes: int64(5), object(5)\n",
      "memory usage: 43.4+ MB\n"
     ]
    }
   ],
   "source": [
    "import pandas as pd\n",
    "\n",
    "df = pd.read_csv('./Reviews.csv')\n",
    "df.info()"
   ]
  },
  {
   "cell_type": "code",
   "execution_count": 33,
   "metadata": {},
   "outputs": [
    {
     "data": {
      "text/html": [
       "<div>\n",
       "<style scoped>\n",
       "    .dataframe tbody tr th:only-of-type {\n",
       "        vertical-align: middle;\n",
       "    }\n",
       "\n",
       "    .dataframe tbody tr th {\n",
       "        vertical-align: top;\n",
       "    }\n",
       "\n",
       "    .dataframe thead th {\n",
       "        text-align: right;\n",
       "    }\n",
       "</style>\n",
       "<table border=\"1\" class=\"dataframe\">\n",
       "  <thead>\n",
       "    <tr style=\"text-align: right;\">\n",
       "      <th></th>\n",
       "      <th>Text</th>\n",
       "      <th>Score</th>\n",
       "    </tr>\n",
       "  </thead>\n",
       "  <tbody>\n",
       "    <tr>\n",
       "      <th>0</th>\n",
       "      <td>I have bought several of the Vitality canned d...</td>\n",
       "      <td>5</td>\n",
       "    </tr>\n",
       "    <tr>\n",
       "      <th>1</th>\n",
       "      <td>Product arrived labeled as Jumbo Salted Peanut...</td>\n",
       "      <td>1</td>\n",
       "    </tr>\n",
       "    <tr>\n",
       "      <th>2</th>\n",
       "      <td>This is a confection that has been around a fe...</td>\n",
       "      <td>4</td>\n",
       "    </tr>\n",
       "    <tr>\n",
       "      <th>3</th>\n",
       "      <td>If you are looking for the secret ingredient i...</td>\n",
       "      <td>2</td>\n",
       "    </tr>\n",
       "    <tr>\n",
       "      <th>4</th>\n",
       "      <td>Great taffy at a great price.  There was a wid...</td>\n",
       "      <td>5</td>\n",
       "    </tr>\n",
       "  </tbody>\n",
       "</table>\n",
       "</div>"
      ],
      "text/plain": [
       "                                                Text  Score\n",
       "0  I have bought several of the Vitality canned d...      5\n",
       "1  Product arrived labeled as Jumbo Salted Peanut...      1\n",
       "2  This is a confection that has been around a fe...      4\n",
       "3  If you are looking for the secret ingredient i...      2\n",
       "4  Great taffy at a great price.  There was a wid...      5"
      ]
     },
     "execution_count": 33,
     "metadata": {},
     "output_type": "execute_result"
    }
   ],
   "source": [
    "df = pd.read_csv('./Reviews.csv',nrows=10000)\n",
    "df = df[['Text','Score']]\n",
    "df.head()"
   ]
  },
  {
   "cell_type": "code",
   "execution_count": 40,
   "metadata": {},
   "outputs": [],
   "source": [
    "def get_misspelled_words(sentence):\n",
    "    return english_spellchecker.unknown(sentence.split())\n",
    "\n",
    "def get_corrected_words(words_lst):\n",
    "    corrected_words_lst = set()\n",
    "    for word in words_lst:\n",
    "        corrected_words_lst.add(english_spellchecker.correction(word))\n",
    "    return corrected_words_lst"
   ]
  },
  {
   "cell_type": "code",
   "execution_count": 37,
   "metadata": {},
   "outputs": [
    {
     "data": {
      "text/html": [
       "<div>\n",
       "<style scoped>\n",
       "    .dataframe tbody tr th:only-of-type {\n",
       "        vertical-align: middle;\n",
       "    }\n",
       "\n",
       "    .dataframe tbody tr th {\n",
       "        vertical-align: top;\n",
       "    }\n",
       "\n",
       "    .dataframe thead th {\n",
       "        text-align: right;\n",
       "    }\n",
       "</style>\n",
       "<table border=\"1\" class=\"dataframe\">\n",
       "  <thead>\n",
       "    <tr style=\"text-align: right;\">\n",
       "      <th></th>\n",
       "      <th>Text</th>\n",
       "      <th>Score</th>\n",
       "      <th>misspelled_words</th>\n",
       "    </tr>\n",
       "  </thead>\n",
       "  <tbody>\n",
       "    <tr>\n",
       "      <th>0</th>\n",
       "      <td>I have bought several of the Vitality canned d...</td>\n",
       "      <td>5</td>\n",
       "      <td>{labrador, quality., better., most.}</td>\n",
       "    </tr>\n",
       "    <tr>\n",
       "      <th>1</th>\n",
       "      <td>Product arrived labeled as Jumbo Salted Peanut...</td>\n",
       "      <td>1</td>\n",
       "      <td>{peanuts...the, unsalted., \"jumbo\".}</td>\n",
       "    </tr>\n",
       "    <tr>\n",
       "      <th>2</th>\n",
       "      <td>This is a confection that has been around a fe...</td>\n",
       "      <td>4</td>\n",
       "      <td>{c.s., witch,, witch., centuries., heaven., wa...</td>\n",
       "    </tr>\n",
       "    <tr>\n",
       "      <th>3</th>\n",
       "      <td>If you are looking for the secret ingredient i...</td>\n",
       "      <td>2</td>\n",
       "      <td>{robitussin, good), soda., (which, medicinal.,...</td>\n",
       "    </tr>\n",
       "    <tr>\n",
       "      <th>4</th>\n",
       "      <td>Great taffy at a great price.  There was a wid...</td>\n",
       "      <td>5</td>\n",
       "      <td>{price., taffy., deal., quick., lover,}</td>\n",
       "    </tr>\n",
       "    <tr>\n",
       "      <th>5</th>\n",
       "      <td>I got a wild hair for taffy and ordered this f...</td>\n",
       "      <td>4</td>\n",
       "      <td>{licorice-flavored, (just, grape,, melon,, pep...</td>\n",
       "    </tr>\n",
       "    <tr>\n",
       "      <th>6</th>\n",
       "      <td>This saltwater taffy had great flavors and was...</td>\n",
       "      <td>5</td>\n",
       "      <td>{fralinger's., beach-themed, candy!, chewy., w...</td>\n",
       "    </tr>\n",
       "    <tr>\n",
       "      <th>7</th>\n",
       "      <td>This taffy is so good.  It is very soft and ch...</td>\n",
       "      <td>5</td>\n",
       "      <td>{amazing., satisfying!!, chewy., good., it.}</td>\n",
       "    </tr>\n",
       "    <tr>\n",
       "      <th>8</th>\n",
       "      <td>Right now I'm mostly just sprouting this so my...</td>\n",
       "      <td>5</td>\n",
       "      <td>{it., i'm, wheatgrass, grass.}</td>\n",
       "    </tr>\n",
       "    <tr>\n",
       "      <th>9</th>\n",
       "      <td>This is a very healthy dog food. Good for thei...</td>\n",
       "      <td>5</td>\n",
       "      <td>{feeding., puppies., digestion., food.}</td>\n",
       "    </tr>\n",
       "  </tbody>\n",
       "</table>\n",
       "</div>"
      ],
      "text/plain": [
       "                                                Text  Score  \\\n",
       "0  I have bought several of the Vitality canned d...      5   \n",
       "1  Product arrived labeled as Jumbo Salted Peanut...      1   \n",
       "2  This is a confection that has been around a fe...      4   \n",
       "3  If you are looking for the secret ingredient i...      2   \n",
       "4  Great taffy at a great price.  There was a wid...      5   \n",
       "5  I got a wild hair for taffy and ordered this f...      4   \n",
       "6  This saltwater taffy had great flavors and was...      5   \n",
       "7  This taffy is so good.  It is very soft and ch...      5   \n",
       "8  Right now I'm mostly just sprouting this so my...      5   \n",
       "9  This is a very healthy dog food. Good for thei...      5   \n",
       "\n",
       "                                    misspelled_words  \n",
       "0               {labrador, quality., better., most.}  \n",
       "1               {peanuts...the, unsalted., \"jumbo\".}  \n",
       "2  {c.s., witch,, witch., centuries., heaven., wa...  \n",
       "3  {robitussin, good), soda., (which, medicinal.,...  \n",
       "4            {price., taffy., deal., quick., lover,}  \n",
       "5  {licorice-flavored, (just, grape,, melon,, pep...  \n",
       "6  {fralinger's., beach-themed, candy!, chewy., w...  \n",
       "7       {amazing., satisfying!!, chewy., good., it.}  \n",
       "8                     {it., i'm, wheatgrass, grass.}  \n",
       "9            {feeding., puppies., digestion., food.}  "
      ]
     },
     "execution_count": 37,
     "metadata": {},
     "output_type": "execute_result"
    }
   ],
   "source": [
    "df['misspelled_words'] = df['Text'].apply(get_misspelled_words)\n",
    "df.head(10)"
   ]
  },
  {
   "cell_type": "code",
   "execution_count": 42,
   "metadata": {},
   "outputs": [
    {
     "name": "stdout",
     "output_type": "stream",
     "text": [
      "<class 'pandas.core.frame.DataFrame'>\n",
      "RangeIndex: 10 entries, 0 to 9\n",
      "Data columns (total 3 columns):\n",
      " #   Column            Non-Null Count  Dtype \n",
      "---  ------            --------------  ----- \n",
      " 0   Text              10 non-null     object\n",
      " 1   Score             10 non-null     int64 \n",
      " 2   misspelled_words  10 non-null     object\n",
      "dtypes: int64(1), object(2)\n",
      "memory usage: 372.0+ bytes\n"
     ]
    }
   ],
   "source": [
    "df = df[:10].copy()\n",
    "df.info()"
   ]
  },
  {
   "cell_type": "code",
   "execution_count": 44,
   "metadata": {},
   "outputs": [
    {
     "data": {
      "text/html": [
       "<div>\n",
       "<style scoped>\n",
       "    .dataframe tbody tr th:only-of-type {\n",
       "        vertical-align: middle;\n",
       "    }\n",
       "\n",
       "    .dataframe tbody tr th {\n",
       "        vertical-align: top;\n",
       "    }\n",
       "\n",
       "    .dataframe thead th {\n",
       "        text-align: right;\n",
       "    }\n",
       "</style>\n",
       "<table border=\"1\" class=\"dataframe\">\n",
       "  <thead>\n",
       "    <tr style=\"text-align: right;\">\n",
       "      <th></th>\n",
       "      <th>Text</th>\n",
       "      <th>Score</th>\n",
       "      <th>misspelled_words</th>\n",
       "      <th>corrected_words</th>\n",
       "    </tr>\n",
       "  </thead>\n",
       "  <tbody>\n",
       "    <tr>\n",
       "      <th>0</th>\n",
       "      <td>I have bought several of the Vitality canned d...</td>\n",
       "      <td>5</td>\n",
       "      <td>{labrador, quality., better., most.}</td>\n",
       "      <td>{most, better, quality, abrader}</td>\n",
       "    </tr>\n",
       "    <tr>\n",
       "      <th>1</th>\n",
       "      <td>Product arrived labeled as Jumbo Salted Peanut...</td>\n",
       "      <td>1</td>\n",
       "      <td>{peanuts...the, unsalted., \"jumbo\".}</td>\n",
       "      <td>{unsalted, None}</td>\n",
       "    </tr>\n",
       "    <tr>\n",
       "      <th>2</th>\n",
       "      <td>This is a confection that has been around a fe...</td>\n",
       "      <td>4</td>\n",
       "      <td>{c.s., witch,, witch., centuries., heaven., wa...</td>\n",
       "      <td>{filberts, demand, heaven, wardrobe, centuries...</td>\n",
       "    </tr>\n",
       "    <tr>\n",
       "      <th>3</th>\n",
       "      <td>If you are looking for the secret ingredient i...</td>\n",
       "      <td>2</td>\n",
       "      <td>{robitussin, good), soda., (which, medicinal.,...</td>\n",
       "      <td>{which, None, medicinal, soda, good, it}</td>\n",
       "    </tr>\n",
       "    <tr>\n",
       "      <th>4</th>\n",
       "      <td>Great taffy at a great price.  There was a wid...</td>\n",
       "      <td>5</td>\n",
       "      <td>{price., taffy., deal., quick., lover,}</td>\n",
       "      <td>{quick, taffy, price, deal, lover}</td>\n",
       "    </tr>\n",
       "    <tr>\n",
       "      <th>5</th>\n",
       "      <td>I got a wild hair for taffy and ordered this f...</td>\n",
       "      <td>4</td>\n",
       "      <td>{licorice-flavored, (just, grape,, melon,, pep...</td>\n",
       "      <td>{me, just, treat, husband, None, favorites, i,...</td>\n",
       "    </tr>\n",
       "    <tr>\n",
       "      <th>6</th>\n",
       "      <td>This saltwater taffy had great flavors and was...</td>\n",
       "      <td>5</td>\n",
       "      <td>{fralinger's., beach-themed, candy!, chewy., w...</td>\n",
       "      <td>{version, candy, None, chewy, well, together, it}</td>\n",
       "    </tr>\n",
       "    <tr>\n",
       "      <th>7</th>\n",
       "      <td>This taffy is so good.  It is very soft and ch...</td>\n",
       "      <td>5</td>\n",
       "      <td>{amazing., satisfying!!, chewy., good., it.}</td>\n",
       "      <td>{amazing, satisfying, chewy, good, it}</td>\n",
       "    </tr>\n",
       "    <tr>\n",
       "      <th>8</th>\n",
       "      <td>Right now I'm mostly just sprouting this so my...</td>\n",
       "      <td>5</td>\n",
       "      <td>{it., i'm, wheatgrass, grass.}</td>\n",
       "      <td>{grass, ism, None, it}</td>\n",
       "    </tr>\n",
       "    <tr>\n",
       "      <th>9</th>\n",
       "      <td>This is a very healthy dog food. Good for thei...</td>\n",
       "      <td>5</td>\n",
       "      <td>{feeding., puppies., digestion., food.}</td>\n",
       "      <td>{food, digestion, puppies, feeding}</td>\n",
       "    </tr>\n",
       "  </tbody>\n",
       "</table>\n",
       "</div>"
      ],
      "text/plain": [
       "                                                Text  Score  \\\n",
       "0  I have bought several of the Vitality canned d...      5   \n",
       "1  Product arrived labeled as Jumbo Salted Peanut...      1   \n",
       "2  This is a confection that has been around a fe...      4   \n",
       "3  If you are looking for the secret ingredient i...      2   \n",
       "4  Great taffy at a great price.  There was a wid...      5   \n",
       "5  I got a wild hair for taffy and ordered this f...      4   \n",
       "6  This saltwater taffy had great flavors and was...      5   \n",
       "7  This taffy is so good.  It is very soft and ch...      5   \n",
       "8  Right now I'm mostly just sprouting this so my...      5   \n",
       "9  This is a very healthy dog food. Good for thei...      5   \n",
       "\n",
       "                                    misspelled_words  \\\n",
       "0               {labrador, quality., better., most.}   \n",
       "1               {peanuts...the, unsalted., \"jumbo\".}   \n",
       "2  {c.s., witch,, witch., centuries., heaven., wa...   \n",
       "3  {robitussin, good), soda., (which, medicinal.,...   \n",
       "4            {price., taffy., deal., quick., lover,}   \n",
       "5  {licorice-flavored, (just, grape,, melon,, pep...   \n",
       "6  {fralinger's., beach-themed, candy!, chewy., w...   \n",
       "7       {amazing., satisfying!!, chewy., good., it.}   \n",
       "8                     {it., i'm, wheatgrass, grass.}   \n",
       "9            {feeding., puppies., digestion., food.}   \n",
       "\n",
       "                                     corrected_words  \n",
       "0                   {most, better, quality, abrader}  \n",
       "1                                   {unsalted, None}  \n",
       "2  {filberts, demand, heaven, wardrobe, centuries...  \n",
       "3           {which, None, medicinal, soda, good, it}  \n",
       "4                 {quick, taffy, price, deal, lover}  \n",
       "5  {me, just, treat, husband, None, favorites, i,...  \n",
       "6  {version, candy, None, chewy, well, together, it}  \n",
       "7             {amazing, satisfying, chewy, good, it}  \n",
       "8                             {grass, ism, None, it}  \n",
       "9                {food, digestion, puppies, feeding}  "
      ]
     },
     "execution_count": 44,
     "metadata": {},
     "output_type": "execute_result"
    }
   ],
   "source": [
    "df['corrected_words'] = df['misspelled_words'].apply(get_corrected_words)\n",
    "df.head(10)"
   ]
  }
 ],
 "metadata": {
  "kernelspec": {
   "display_name": "env",
   "language": "python",
   "name": "python3"
  },
  "language_info": {
   "codemirror_mode": {
    "name": "ipython",
    "version": 3
   },
   "file_extension": ".py",
   "mimetype": "text/x-python",
   "name": "python",
   "nbconvert_exporter": "python",
   "pygments_lexer": "ipython3",
   "version": "3.11.5"
  }
 },
 "nbformat": 4,
 "nbformat_minor": 2
}
